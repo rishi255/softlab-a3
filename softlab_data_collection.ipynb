{
  "nbformat": 4,
  "nbformat_minor": 0,
  "metadata": {
    "colab": {
      "name": "softlab-data-collection.ipynb",
      "provenance": [],
      "toc_visible": true,
      "authorship_tag": "ABX9TyPCYuzRi3TBy+Y7Z+XW9xzK",
      "include_colab_link": true
    },
    "kernelspec": {
      "name": "python3",
      "display_name": "Python 3"
    },
    "language_info": {
      "name": "python"
    },
    "accelerator": "GPU"
  },
  "cells": [
    {
      "cell_type": "markdown",
      "metadata": {
        "id": "view-in-github",
        "colab_type": "text"
      },
      "source": [
        "<a href=\"https://colab.research.google.com/github/rishi255/softlab-a3/blob/main/softlab_data_collection.ipynb\" target=\"_parent\"><img src=\"https://colab.research.google.com/assets/colab-badge.svg\" alt=\"Open In Colab\"/></a>"
      ]
    },
    {
      "cell_type": "code",
      "metadata": {
        "colab": {
          "base_uri": "https://localhost:8080/"
        },
        "id": "b7iigpLCxph8",
        "outputId": "66c98489-725c-4914-83f5-fa8b454a11bb"
      },
      "source": [
        "%pip install -qU omdb\n",
        "%pip install -qU torch\n",
        "!git clone https://github.com/huggingface/transformers\n",
        "\n",
        "from bs4 import BeautifulSoup\n",
        "import json\n",
        "import omdb\n",
        "import requests\n",
        "import re\n",
        "import traceback\n",
        "import torch\n",
        "\n",
        "print(\"All installed and imported!\")"
      ],
      "execution_count": null,
      "outputs": [
        {
          "output_type": "stream",
          "text": [
            "Cloning into 'transformers'...\n",
            "remote: Enumerating objects: 377, done.\u001b[K\n",
            "remote: Counting objects: 100% (377/377), done.\u001b[K\n",
            "remote: Compressing objects: 100% (210/210), done.\u001b[K\n",
            "remote: Total 69566 (delta 197), reused 296 (delta 152), pack-reused 69189\u001b[K\n",
            "Receiving objects: 100% (69566/69566), 53.05 MiB | 22.09 MiB/s, done.\n",
            "Resolving deltas: 100% (49217/49217), done.\n",
            "All installed and imported!\n"
          ],
          "name": "stdout"
        }
      ]
    },
    {
      "cell_type": "markdown",
      "metadata": {
        "id": "VDPSVCH00BfB"
      },
      "source": [
        "# Data Scraping"
      ]
    },
    {
      "cell_type": "code",
      "metadata": {
        "id": "VvQPe3qfvcVX",
        "colab": {
          "base_uri": "https://localhost:8080/"
        },
        "outputId": "94d77588-e835-439f-ec95-5a99f0838bf9"
      },
      "source": [
        "# get screenplay of all movies returned in the search\n",
        "def scrape(name_with_dash_list):\n",
        "    screenplays = []\n",
        "    print(name_with_dash_list)\n",
        "    \n",
        "    # for movie_id, movie_title in movies_list:\n",
        "    for movie_name_with_dash in name_with_dash_list: \n",
        "        print(\"For movie\", movie_name_with_dash)\n",
        "        # name_with_dash = \"-\".join(movie_title.split())\n",
        "        screenplay_url = f\"https://imsdb.com/scripts/{movie_name_with_dash}.html\"\n",
        "        print(\"Attempting to get the screenplay from url\", screenplay_url)\n",
        "        # XPATH = /html/body/table[2]/tbody/tr/td[3]/table/tbody/tr/td/pre/pre\n",
        "        response = requests.request(method=\"get\", url=screenplay_url)\n",
        "        soup = BeautifulSoup(response.text, \"html.parser\")\n",
        "        try:\n",
        "            screenplay_text = soup.find('td', class_=\"scrtext\").pre.pre\n",
        "            print(\"Here\", type(screenplay_text), str(screenplay_text)[:300])\n",
        "            try:\n",
        "                screenplay_text = screenplay_text.text\n",
        "            except:\n",
        "                screenplay_text = \"\"\n",
        "        except:\n",
        "            print(f\"Movie {movie_name_with_dash} not found!\")\n",
        "            traceback.print_exc()\n",
        "            # return None\n",
        "        else:\n",
        "            screenplays.append(screenplay_text)\n",
        "            print(f\"*** {movie_name_with_dash} done!\")    \n",
        "\n",
        "    with open(\"screenplays.txt\", \"w+\") as f:\n",
        "        f.writelines(screenplays)\n",
        "\n",
        "scrape([\"Jurassic-Park\", \"Jurassic-Park-III\", \"Jurassic-Park-The-Lost-World\"])"
      ],
      "execution_count": 21,
      "outputs": [
        {
          "output_type": "stream",
          "text": [
            "['Jurassic-Park', 'Jurassic-Park-III', 'Jurassic-Park-The-Lost-World']\n",
            "For movie Jurassic-Park\n",
            "Attempting to get the screenplay from url https://imsdb.com/scripts/Jurassic-Park.html\n",
            "Here <class 'bs4.element.Tag'> <pre>\n",
            "\n",
            "\n",
            "\n",
            "<b>                                JURASSIC PARK\n",
            "</b>\n",
            "\n",
            "\n",
            "                                 First Draft\n",
            "                                     by\n",
            "<b>                              MICHAEL CRICHTON\n",
            "</b>\n",
            "\n",
            "\n",
            "                                 Re-write by\n",
            "<b>                             M\n",
            "*** Jurassic-Park done!\n",
            "For movie Jurassic-Park-III\n",
            "Attempting to get the screenplay from url https://imsdb.com/scripts/Jurassic-Park-III.html\n",
            "Here <class 'NoneType'> None\n",
            "*** Jurassic-Park-III done!\n",
            "For movie Jurassic-Park-The-Lost-World\n",
            "Attempting to get the screenplay from url https://imsdb.com/scripts/Jurassic-Park-The-Lost-World.html\n",
            "Here <class 'bs4.element.Tag'> <pre>\n",
            "<b>\t\t\tTHE LOST WORLD\n",
            "</b><b>\t\t\t JURASSIC PARK\n",
            "</b>\n",
            "\t\t\tScreenplay by\n",
            "\t\t\t  David Koepp\n",
            "<b>\t\n",
            "</b>\t\t     based on the novel by\n",
            "\t\t\tMichael Crichton\n",
            "\n",
            "<b>\tEXT. TROPICAL LAGOON - DAY\n",
            "</b>\n",
            "\tA 135-foot-luxury yacht is anchored just offshore in a \n",
            "\ttropical lagoon.  The beach is a stunning c\n",
            "*** Jurassic-Park-The-Lost-World done!\n"
          ],
          "name": "stdout"
        }
      ]
    },
    {
      "cell_type": "markdown",
      "metadata": {
        "id": "FdPKXIFB0Ecy"
      },
      "source": [
        "# Data Cleanup"
      ]
    },
    {
      "cell_type": "code",
      "metadata": {
        "id": "uqDp139ayRG6",
        "colab": {
          "base_uri": "https://localhost:8080/"
        },
        "outputId": "46adc113-e8cc-41c9-b85d-40101444a0b3"
      },
      "source": [
        "# !cat JP1.txt JP2.txt JP3.txt > merged.txt\n",
        "# !wc -l JP1.txt\n",
        "# !wc -l JP2.txt\n",
        "# !wc -l JP3.txt\n",
        "\n",
        "!wc -l screenplays.txt\n",
        "# !wc -c merged.txt"
      ],
      "execution_count": 22,
      "outputs": [
        {
          "output_type": "stream",
          "text": [
            "13769 screenplays.txt\n"
          ],
          "name": "stdout"
        }
      ]
    },
    {
      "cell_type": "markdown",
      "metadata": {
        "id": "fMnudKtgz2ha"
      },
      "source": [
        "# Actual Training and Predicting stuff\n",
        "\n"
      ]
    },
    {
      "cell_type": "code",
      "metadata": {
        "id": "xt0_g79h1NcC"
      },
      "source": [
        "%pip install transformers/\n",
        "%pip install -r transformers/examples/language-modeling/requirements.txt"
      ],
      "execution_count": null,
      "outputs": []
    },
    {
      "cell_type": "code",
      "metadata": {
        "id": "Fjasosq2z1o0"
      },
      "source": [
        "!ls\n",
        "!pwd\n",
        "!python transformers/examples/language-modeling/run_clm.py \\\n",
        "    --output_dir=output \\\n",
        "    --model_type=gpt2 \\\n",
        "    --model_name_or_path=gpt2-medium \\\n",
        "    --do_train \\\n",
        "    --train_file=/content/merged.txt \\\n",
        "    --overwrite_output_dir\\\n",
        "    --block_size=200\\\n",
        "    --per_device_train_batch_size=1\\\n",
        "    --save_steps 5000\\\n",
        "    --num_train_epochs=2"
      ],
      "execution_count": null,
      "outputs": []
    },
    {
      "cell_type": "code",
      "metadata": {
        "colab": {
          "base_uri": "https://localhost:8080/"
        },
        "id": "ObITJiAq_Hh9",
        "outputId": "ffe2b6c1-acd3-45f6-c811-fc68e38e309c"
      },
      "source": [
        "!python transformers/examples/text-generation/run_generation.py \\\n",
        "    --model_type gpt2 \\\n",
        "    --model_name_or_path output \\\n",
        "    --length 1000 \\\n",
        "    --prompt \"The T-Rex let out a loud roar.\" \\\n",
        "    > test.txt"
      ],
      "execution_count": null,
      "outputs": [
        {
          "output_type": "stream",
          "text": [
            "04/05/2021 22:16:30 - WARNING - __main__ -   device: cuda, n_gpu: 1, 16-bits training: False\n",
            "04/05/2021 22:16:45 - INFO - __main__ -   Namespace(device=device(type='cuda'), fp16=False, k=0, length=1000, model_name_or_path='output', model_type='gpt2', n_gpu=1, no_cuda=False, num_return_sequences=1, p=0.9, padding_text='', prefix='', prompt='The velociraptor leaned in for a kiss.', repetition_penalty=1.0, seed=42, stop_token=None, temperature=1.0, xlm_language='')\n",
            "Setting `pad_token_id` to `eos_token_id`:50256 for open-end generation.\n",
            "2021-04-05 22:17:04.969620: I tensorflow/stream_executor/platform/default/dso_loader.cc:49] Successfully opened dynamic library libcudart.so.11.0\n"
          ],
          "name": "stdout"
        }
      ]
    }
  ]
}